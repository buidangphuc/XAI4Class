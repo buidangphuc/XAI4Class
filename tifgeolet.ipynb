{
 "cells": [
  {
   "cell_type": "code",
   "execution_count": null,
   "id": "7642dfa6",
   "metadata": {},
   "outputs": [
    {
     "name": "stdout",
     "output_type": "stream",
     "text": [
      "Dataset: animals\n",
      "Số lượng quỹ đạo: 253\n",
      "Số lượng nhãn: 253\n",
      "Danh sách nhãn duy nhất: {'Elk', 'Cattle', 'Deer'}\n",
      "------------------------------------------------------------\n",
      "👉 Quỹ đạo 0 có nhãn: Elk\n",
      "  Kiểu dữ liệu: <class 'yupi.trajectory.Trajectory'>\n",
      "  Dạng phần tử đầu tiên: TrajectoryPoint(r=Vector([-118.60659553,   45.26957565]), v=Vector([0, 0]), t=np.float64(0.0))\n",
      "\n",
      "5 điểm đầu của quỹ đạo:\n",
      "  [0] TrajectoryPoint(r=Vector([-118.60659553,   45.26957565]), v=Vector([0, 0]), t=np.float64(0.0))\n",
      "  [1] TrajectoryPoint(r=Vector([-118.60663224,   45.26952113]), v=Vector([-2.21163580e-07,  1.09577228e-11]), t=np.float64(1391.0))\n",
      "  [2] TrajectoryPoint(r=Vector([-118.60723293,   45.26957568]), v=Vector([-2.21163580e-07,  1.09577228e-11]), t=np.float64(2882.0))\n",
      "  [3] TrajectoryPoint(r=Vector([-118.60448961,   45.26993832]), v=Vector([1.36386217e-06, 2.65559009e-07]), t=np.float64(2962.0))\n",
      "  [4] TrajectoryPoint(r=Vector([-118.60838613,   45.26978448]), v=Vector([-8.08132622e-07,  1.46321142e-07]), t=np.float64(4309.0))\n"
     ]
    }
   ],
   "source": [
    "from pactus import Dataset\n",
    "import numpy as np\n",
    "\n",
    "# 1️⃣ Chọn 1 dataset có sẵn trong pactus\n",
    "ds = (\n",
    "    Dataset.animals()\n",
    ")  # hoặc Dataset.geolife(), Dataset.hurdat2(), Dataset.mnist_stroke(), ...\n",
    "\n",
    "# 2️⃣ Xem thông tin cơ bản\n",
    "print(\"Dataset:\", ds.name if hasattr(ds, \"name\") else \"N/A\")\n",
    "print(\"Số lượng quỹ đạo:\", len(ds.trajs))\n",
    "print(\"Số lượng nhãn:\", len(ds.labels))\n",
    "print(\"Danh sách nhãn duy nhất:\", set(ds.labels))\n",
    "print(\"-\" * 60)\n",
    "\n",
    "# 3️⃣ Lấy thử 1 quỹ đạo đầu tiên\n",
    "sample_idx = 0\n",
    "traj = ds.trajs[sample_idx]\n",
    "label = ds.labels[sample_idx]\n",
    "\n",
    "print(f\"👉 Quỹ đạo {sample_idx} có nhãn: {label}\")\n",
    "print(\"  Kiểu dữ liệu:\", type(traj))\n",
    "# print(\"  Shape:\", np.shape(traj))\n",
    "print(\"  Dạng phần tử đầu tiên:\", traj[0])\n",
    "\n",
    "# 4️⃣ In thử 5 điểm đầu\n",
    "print(\"\\n5 điểm đầu của quỹ đạo:\")\n",
    "for i, point in enumerate(traj[:5]):\n",
    "    print(f\"  [{i}] {point}\")"
   ]
  },
  {
   "cell_type": "code",
   "execution_count": null,
   "id": "d2c21400",
   "metadata": {},
   "outputs": [
    {
     "name": "stdout",
     "output_type": "stream",
     "text": [
      "   tid class          c1         c2       t\n",
      "0    0   Elk -118.606596  45.269576     0.0\n",
      "1    0   Elk -118.606632  45.269521  1391.0\n",
      "2    0   Elk -118.607233  45.269576  2882.0\n",
      "3    0   Elk -118.604490  45.269938  2962.0\n",
      "4    0   Elk -118.608386  45.269784  4309.0\n",
      "Shape: (287134, 5)\n",
      "Classes: ['Elk' 'Deer' 'Cattle']\n"
     ]
    }
   ],
   "source": [
    "import pandas as pd\n",
    "from pactus import Dataset\n",
    "\n",
    "# Ví dụ: animals (bạn đổi sang geolife/hurdat2... nếu muốn)\n",
    "ds = Dataset.animals()\n",
    "\n",
    "rows = []\n",
    "for tid, (traj, label) in enumerate(zip(ds.trajs, ds.labels)):\n",
    "    # Trajectory trong yupi có thể được iterate trực tiếp:\n",
    "    for p in traj:  # p là TrajectoryPoint\n",
    "        rows.append(\n",
    "            {\n",
    "                \"tid\": tid,\n",
    "                \"class\": label,\n",
    "                \"c1\": p.r[0],  # toạ độ 1 (lon hoặc x)\n",
    "                \"c2\": p.r[1],  # toạ độ 2 (lat hoặc y)\n",
    "                \"t\": float(p.t),  # timestamp\n",
    "            }\n",
    "        )\n",
    "\n",
    "df = pd.DataFrame(rows).sort_values([\"tid\", \"t\"]).reset_index(drop=True)\n",
    "\n",
    "print(df.head())\n",
    "print(\"Shape:\", df.shape)\n",
    "print(\"Classes:\", df[\"class\"].unique())"
   ]
  }
 ],
 "metadata": {
  "kernelspec": {
   "display_name": "xai",
   "language": "python",
   "name": "python3"
  },
  "language_info": {
   "codemirror_mode": {
    "name": "ipython",
    "version": 3
   },
   "file_extension": ".py",
   "mimetype": "text/x-python",
   "name": "python",
   "nbconvert_exporter": "python",
   "pygments_lexer": "ipython3",
   "version": "3.10.16"
  }
 },
 "nbformat": 4,
 "nbformat_minor": 5
}
